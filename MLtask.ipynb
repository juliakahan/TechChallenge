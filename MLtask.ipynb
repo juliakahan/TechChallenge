{
  "nbformat": 4,
  "nbformat_minor": 0,
  "metadata": {
    "colab": {
      "provenance": [],
      "authorship_tag": "ABX9TyPDRN/PQNsYAp5AHf6g3pVk",
      "include_colab_link": true
    },
    "kernelspec": {
      "name": "python3",
      "display_name": "Python 3"
    },
    "language_info": {
      "name": "python"
    }
  },
  "cells": [
    {
      "cell_type": "markdown",
      "metadata": {
        "id": "view-in-github",
        "colab_type": "text"
      },
      "source": [
        "<a href=\"https://colab.research.google.com/github/juliakahan/TechChallenge/blob/main/MLtask.ipynb\" target=\"_parent\"><img src=\"https://colab.research.google.com/assets/colab-badge.svg\" alt=\"Open In Colab\"/></a>"
      ]
    },
    {
      "cell_type": "markdown",
      "source": [
        "A company selling luxury products prepares a marketing campaign to promote their brand new model of a golden watch.\n",
        "While selling the previous model they collected the following data about the customers.\n",
        "**Age** - the age of customer\n",
        "**Salary** - the estimated customer's salary value\n",
        "**Purchased** - information if given customer purchased the product or not, **1** - yes, **0** - no\n",
        "\n",
        "Deliver a solution in Python which leverages Machine Learning and the available data to help the company predict \n",
        "**which customers may be willing to buy their new watch**, so that they can properly target their marketing efforts.\n",
        "The solution should answer the question if customer in given age who earns given salary **will buy the product or not**.\n",
        "\n"
      ],
      "metadata": {
        "id": "ulqQ2pHT_U8w"
      }
    },
    {
      "cell_type": "code",
      "source": [
        "import pandas as pd\n",
        "import numpy as np"
      ],
      "metadata": {
        "id": "opCTKrdL_lWG"
      },
      "execution_count": 27,
      "outputs": []
    },
    {
      "cell_type": "code",
      "source": [
        "from sklearn.ensemble import RandomForestClassifier\n",
        "from sklearn.metrics import accuracy_score, confusion_matrix, precision_score, recall_score, ConfusionMatrixDisplay\n",
        "from sklearn.model_selection import RandomizedSearchCV, train_test_split\n",
        "from scipy.stats import randint"
      ],
      "metadata": {
        "id": "gg7org9JCTxh"
      },
      "execution_count": 28,
      "outputs": []
    },
    {
      "cell_type": "code",
      "source": [
        "from sklearn.tree import export_graphviz\n",
        "from IPython.display import Image\n",
        "import graphviz"
      ],
      "metadata": {
        "id": "Gmkj_G0gCV3H"
      },
      "execution_count": 29,
      "outputs": []
    },
    {
      "cell_type": "code",
      "source": [
        "df = pd.read_csv('/content/DATA/Customers.csv')\n",
        "print(df) "
      ],
      "metadata": {
        "colab": {
          "base_uri": "https://localhost:8080/"
        },
        "id": "DwPbmMj9CZX4",
        "outputId": "8e8e9bbf-f6d6-4c7c-9bd6-5b480bc78b21"
      },
      "execution_count": 30,
      "outputs": [
        {
          "output_type": "stream",
          "name": "stdout",
          "text": [
            "     Age  Salary  Purchased\n",
            "0     27   57000          0\n",
            "1     19   76000          0\n",
            "2     27   58000          0\n",
            "3     27   84000          0\n",
            "4     32  150000          1\n",
            "..   ...     ...        ...\n",
            "375   46   41000          1\n",
            "376   51   23000          1\n",
            "377   50   20000          1\n",
            "378   36   33000          0\n",
            "379   49   36000          1\n",
            "\n",
            "[380 rows x 3 columns]\n"
          ]
        }
      ]
    },
    {
      "cell_type": "code",
      "source": [
        "print(\"Number of instances: \", df.shape[0])"
      ],
      "metadata": {
        "colab": {
          "base_uri": "https://localhost:8080/"
        },
        "id": "W2mq4Z3jfQXJ",
        "outputId": "6f05b3b5-44d4-4e46-deda-cfb276756dea"
      },
      "execution_count": 31,
      "outputs": [
        {
          "output_type": "stream",
          "name": "stdout",
          "text": [
            "Number of instances:  380\n"
          ]
        }
      ]
    },
    {
      "cell_type": "code",
      "source": [
        "df.isnull().sum()"
      ],
      "metadata": {
        "colab": {
          "base_uri": "https://localhost:8080/"
        },
        "id": "UQ9_KdVle7tR",
        "outputId": "7c34270e-ad21-47ec-925d-e68c80ce9289"
      },
      "execution_count": 32,
      "outputs": [
        {
          "output_type": "execute_result",
          "data": {
            "text/plain": [
              "Age          0\n",
              "Salary       0\n",
              "Purchased    0\n",
              "dtype: int64"
            ]
          },
          "metadata": {},
          "execution_count": 32
        }
      ]
    },
    {
      "cell_type": "code",
      "source": [
        "X_customers = df[[\"Age\", \"Salary\"]]\n",
        "y_customers = df[\"Purchased\"]"
      ],
      "metadata": {
        "id": "CLQnLzjWDxRM"
      },
      "execution_count": 33,
      "outputs": []
    },
    {
      "cell_type": "code",
      "source": [
        "X_customers"
      ],
      "metadata": {
        "colab": {
          "base_uri": "https://localhost:8080/",
          "height": 433
        },
        "id": "mSkibp4dFd7R",
        "outputId": "a19f4ab4-44c6-49d5-92d0-5b3a13cca307"
      },
      "execution_count": 34,
      "outputs": [
        {
          "output_type": "execute_result",
          "data": {
            "text/plain": [
              "     Age  Salary\n",
              "0     27   57000\n",
              "1     19   76000\n",
              "2     27   58000\n",
              "3     27   84000\n",
              "4     32  150000\n",
              "..   ...     ...\n",
              "375   46   41000\n",
              "376   51   23000\n",
              "377   50   20000\n",
              "378   36   33000\n",
              "379   49   36000\n",
              "\n",
              "[380 rows x 2 columns]"
            ],
            "text/html": [
              "\n",
              "  <div id=\"df-f12d670d-e999-40a2-b8ab-45a6d7f2e345\">\n",
              "    <div class=\"colab-df-container\">\n",
              "      <div>\n",
              "<style scoped>\n",
              "    .dataframe tbody tr th:only-of-type {\n",
              "        vertical-align: middle;\n",
              "    }\n",
              "\n",
              "    .dataframe tbody tr th {\n",
              "        vertical-align: top;\n",
              "    }\n",
              "\n",
              "    .dataframe thead th {\n",
              "        text-align: right;\n",
              "    }\n",
              "</style>\n",
              "<table border=\"1\" class=\"dataframe\">\n",
              "  <thead>\n",
              "    <tr style=\"text-align: right;\">\n",
              "      <th></th>\n",
              "      <th>Age</th>\n",
              "      <th>Salary</th>\n",
              "    </tr>\n",
              "  </thead>\n",
              "  <tbody>\n",
              "    <tr>\n",
              "      <th>0</th>\n",
              "      <td>27</td>\n",
              "      <td>57000</td>\n",
              "    </tr>\n",
              "    <tr>\n",
              "      <th>1</th>\n",
              "      <td>19</td>\n",
              "      <td>76000</td>\n",
              "    </tr>\n",
              "    <tr>\n",
              "      <th>2</th>\n",
              "      <td>27</td>\n",
              "      <td>58000</td>\n",
              "    </tr>\n",
              "    <tr>\n",
              "      <th>3</th>\n",
              "      <td>27</td>\n",
              "      <td>84000</td>\n",
              "    </tr>\n",
              "    <tr>\n",
              "      <th>4</th>\n",
              "      <td>32</td>\n",
              "      <td>150000</td>\n",
              "    </tr>\n",
              "    <tr>\n",
              "      <th>...</th>\n",
              "      <td>...</td>\n",
              "      <td>...</td>\n",
              "    </tr>\n",
              "    <tr>\n",
              "      <th>375</th>\n",
              "      <td>46</td>\n",
              "      <td>41000</td>\n",
              "    </tr>\n",
              "    <tr>\n",
              "      <th>376</th>\n",
              "      <td>51</td>\n",
              "      <td>23000</td>\n",
              "    </tr>\n",
              "    <tr>\n",
              "      <th>377</th>\n",
              "      <td>50</td>\n",
              "      <td>20000</td>\n",
              "    </tr>\n",
              "    <tr>\n",
              "      <th>378</th>\n",
              "      <td>36</td>\n",
              "      <td>33000</td>\n",
              "    </tr>\n",
              "    <tr>\n",
              "      <th>379</th>\n",
              "      <td>49</td>\n",
              "      <td>36000</td>\n",
              "    </tr>\n",
              "  </tbody>\n",
              "</table>\n",
              "<p>380 rows × 2 columns</p>\n",
              "</div>\n",
              "      <button class=\"colab-df-convert\" onclick=\"convertToInteractive('df-f12d670d-e999-40a2-b8ab-45a6d7f2e345')\"\n",
              "              title=\"Convert this dataframe to an interactive table.\"\n",
              "              style=\"display:none;\">\n",
              "        \n",
              "  <svg xmlns=\"http://www.w3.org/2000/svg\" height=\"24px\"viewBox=\"0 0 24 24\"\n",
              "       width=\"24px\">\n",
              "    <path d=\"M0 0h24v24H0V0z\" fill=\"none\"/>\n",
              "    <path d=\"M18.56 5.44l.94 2.06.94-2.06 2.06-.94-2.06-.94-.94-2.06-.94 2.06-2.06.94zm-11 1L8.5 8.5l.94-2.06 2.06-.94-2.06-.94L8.5 2.5l-.94 2.06-2.06.94zm10 10l.94 2.06.94-2.06 2.06-.94-2.06-.94-.94-2.06-.94 2.06-2.06.94z\"/><path d=\"M17.41 7.96l-1.37-1.37c-.4-.4-.92-.59-1.43-.59-.52 0-1.04.2-1.43.59L10.3 9.45l-7.72 7.72c-.78.78-.78 2.05 0 2.83L4 21.41c.39.39.9.59 1.41.59.51 0 1.02-.2 1.41-.59l7.78-7.78 2.81-2.81c.8-.78.8-2.07 0-2.86zM5.41 20L4 18.59l7.72-7.72 1.47 1.35L5.41 20z\"/>\n",
              "  </svg>\n",
              "      </button>\n",
              "      \n",
              "  <style>\n",
              "    .colab-df-container {\n",
              "      display:flex;\n",
              "      flex-wrap:wrap;\n",
              "      gap: 12px;\n",
              "    }\n",
              "\n",
              "    .colab-df-convert {\n",
              "      background-color: #E8F0FE;\n",
              "      border: none;\n",
              "      border-radius: 50%;\n",
              "      cursor: pointer;\n",
              "      display: none;\n",
              "      fill: #1967D2;\n",
              "      height: 32px;\n",
              "      padding: 0 0 0 0;\n",
              "      width: 32px;\n",
              "    }\n",
              "\n",
              "    .colab-df-convert:hover {\n",
              "      background-color: #E2EBFA;\n",
              "      box-shadow: 0px 1px 2px rgba(60, 64, 67, 0.3), 0px 1px 3px 1px rgba(60, 64, 67, 0.15);\n",
              "      fill: #174EA6;\n",
              "    }\n",
              "\n",
              "    [theme=dark] .colab-df-convert {\n",
              "      background-color: #3B4455;\n",
              "      fill: #D2E3FC;\n",
              "    }\n",
              "\n",
              "    [theme=dark] .colab-df-convert:hover {\n",
              "      background-color: #434B5C;\n",
              "      box-shadow: 0px 1px 3px 1px rgba(0, 0, 0, 0.15);\n",
              "      filter: drop-shadow(0px 1px 2px rgba(0, 0, 0, 0.3));\n",
              "      fill: #FFFFFF;\n",
              "    }\n",
              "  </style>\n",
              "\n",
              "      <script>\n",
              "        const buttonEl =\n",
              "          document.querySelector('#df-f12d670d-e999-40a2-b8ab-45a6d7f2e345 button.colab-df-convert');\n",
              "        buttonEl.style.display =\n",
              "          google.colab.kernel.accessAllowed ? 'block' : 'none';\n",
              "\n",
              "        async function convertToInteractive(key) {\n",
              "          const element = document.querySelector('#df-f12d670d-e999-40a2-b8ab-45a6d7f2e345');\n",
              "          const dataTable =\n",
              "            await google.colab.kernel.invokeFunction('convertToInteractive',\n",
              "                                                     [key], {});\n",
              "          if (!dataTable) return;\n",
              "\n",
              "          const docLinkHtml = 'Like what you see? Visit the ' +\n",
              "            '<a target=\"_blank\" href=https://colab.research.google.com/notebooks/data_table.ipynb>data table notebook</a>'\n",
              "            + ' to learn more about interactive tables.';\n",
              "          element.innerHTML = '';\n",
              "          dataTable['output_type'] = 'display_data';\n",
              "          await google.colab.output.renderOutput(dataTable, element);\n",
              "          const docLink = document.createElement('div');\n",
              "          docLink.innerHTML = docLinkHtml;\n",
              "          element.appendChild(docLink);\n",
              "        }\n",
              "      </script>\n",
              "    </div>\n",
              "  </div>\n",
              "  "
            ]
          },
          "metadata": {},
          "execution_count": 34
        }
      ]
    },
    {
      "cell_type": "markdown",
      "source": [
        "Mapping binary values to the suitable answer type."
      ],
      "metadata": {
        "id": "sR4BtY2aGdS4"
      }
    },
    {
      "cell_type": "code",
      "source": [
        "y_customers = y_customers.map({0:'no',1:'yes'})\n",
        "y_customers"
      ],
      "metadata": {
        "colab": {
          "base_uri": "https://localhost:8080/"
        },
        "id": "BakRIMOQF_nF",
        "outputId": "9237c688-6537-45eb-996c-2e7a815b7566"
      },
      "execution_count": 35,
      "outputs": [
        {
          "output_type": "execute_result",
          "data": {
            "text/plain": [
              "0       no\n",
              "1       no\n",
              "2       no\n",
              "3       no\n",
              "4      yes\n",
              "      ... \n",
              "375    yes\n",
              "376    yes\n",
              "377    yes\n",
              "378     no\n",
              "379    yes\n",
              "Name: Purchased, Length: 380, dtype: object"
            ]
          },
          "metadata": {},
          "execution_count": 35
        }
      ]
    },
    {
      "cell_type": "code",
      "source": [
        "from sklearn.model_selection import train_test_split\n",
        "X_train, X_test, y_train, y_test = train_test_split(X_customers, y_customers, test_size=0.2)"
      ],
      "metadata": {
        "id": "TvjUeJEGE2SR"
      },
      "execution_count": 36,
      "outputs": []
    },
    {
      "cell_type": "code",
      "source": [
        "param_dist = {'n_estimators': randint(50,250),\n",
        "              'max_depth': randint(1,10)}"
      ],
      "metadata": {
        "id": "yrhP3y2WI44O"
      },
      "execution_count": 37,
      "outputs": []
    },
    {
      "cell_type": "code",
      "source": [
        "tree_clf = RandomForestClassifier()"
      ],
      "metadata": {
        "id": "Dw8i9f8HGxmv"
      },
      "execution_count": 38,
      "outputs": []
    },
    {
      "cell_type": "code",
      "source": [
        "rand_search = RandomizedSearchCV(tree_clf, \n",
        "                                 param_distributions = param_dist, \n",
        "                                 n_iter=5, \n",
        "                                 cv=5)\n",
        "\n",
        "rand_search.fit(X_train, y_train)"
      ],
      "metadata": {
        "colab": {
          "base_uri": "https://localhost:8080/",
          "height": 135
        },
        "id": "rk3dxIltJCMg",
        "outputId": "e4a41481-778e-471e-884a-2b4c90457a7a"
      },
      "execution_count": 39,
      "outputs": [
        {
          "output_type": "execute_result",
          "data": {
            "text/plain": [
              "RandomizedSearchCV(cv=5, estimator=RandomForestClassifier(), n_iter=5,\n",
              "                   param_distributions={'max_depth': <scipy.stats._distn_infrastructure.rv_discrete_frozen object at 0x7f7d55f46c70>,\n",
              "                                        'n_estimators': <scipy.stats._distn_infrastructure.rv_discrete_frozen object at 0x7f7d55f41730>})"
            ],
            "text/html": [
              "<style>#sk-container-id-2 {color: black;background-color: white;}#sk-container-id-2 pre{padding: 0;}#sk-container-id-2 div.sk-toggleable {background-color: white;}#sk-container-id-2 label.sk-toggleable__label {cursor: pointer;display: block;width: 100%;margin-bottom: 0;padding: 0.3em;box-sizing: border-box;text-align: center;}#sk-container-id-2 label.sk-toggleable__label-arrow:before {content: \"▸\";float: left;margin-right: 0.25em;color: #696969;}#sk-container-id-2 label.sk-toggleable__label-arrow:hover:before {color: black;}#sk-container-id-2 div.sk-estimator:hover label.sk-toggleable__label-arrow:before {color: black;}#sk-container-id-2 div.sk-toggleable__content {max-height: 0;max-width: 0;overflow: hidden;text-align: left;background-color: #f0f8ff;}#sk-container-id-2 div.sk-toggleable__content pre {margin: 0.2em;color: black;border-radius: 0.25em;background-color: #f0f8ff;}#sk-container-id-2 input.sk-toggleable__control:checked~div.sk-toggleable__content {max-height: 200px;max-width: 100%;overflow: auto;}#sk-container-id-2 input.sk-toggleable__control:checked~label.sk-toggleable__label-arrow:before {content: \"▾\";}#sk-container-id-2 div.sk-estimator input.sk-toggleable__control:checked~label.sk-toggleable__label {background-color: #d4ebff;}#sk-container-id-2 div.sk-label input.sk-toggleable__control:checked~label.sk-toggleable__label {background-color: #d4ebff;}#sk-container-id-2 input.sk-hidden--visually {border: 0;clip: rect(1px 1px 1px 1px);clip: rect(1px, 1px, 1px, 1px);height: 1px;margin: -1px;overflow: hidden;padding: 0;position: absolute;width: 1px;}#sk-container-id-2 div.sk-estimator {font-family: monospace;background-color: #f0f8ff;border: 1px dotted black;border-radius: 0.25em;box-sizing: border-box;margin-bottom: 0.5em;}#sk-container-id-2 div.sk-estimator:hover {background-color: #d4ebff;}#sk-container-id-2 div.sk-parallel-item::after {content: \"\";width: 100%;border-bottom: 1px solid gray;flex-grow: 1;}#sk-container-id-2 div.sk-label:hover label.sk-toggleable__label {background-color: #d4ebff;}#sk-container-id-2 div.sk-serial::before {content: \"\";position: absolute;border-left: 1px solid gray;box-sizing: border-box;top: 0;bottom: 0;left: 50%;z-index: 0;}#sk-container-id-2 div.sk-serial {display: flex;flex-direction: column;align-items: center;background-color: white;padding-right: 0.2em;padding-left: 0.2em;position: relative;}#sk-container-id-2 div.sk-item {position: relative;z-index: 1;}#sk-container-id-2 div.sk-parallel {display: flex;align-items: stretch;justify-content: center;background-color: white;position: relative;}#sk-container-id-2 div.sk-item::before, #sk-container-id-2 div.sk-parallel-item::before {content: \"\";position: absolute;border-left: 1px solid gray;box-sizing: border-box;top: 0;bottom: 0;left: 50%;z-index: -1;}#sk-container-id-2 div.sk-parallel-item {display: flex;flex-direction: column;z-index: 1;position: relative;background-color: white;}#sk-container-id-2 div.sk-parallel-item:first-child::after {align-self: flex-end;width: 50%;}#sk-container-id-2 div.sk-parallel-item:last-child::after {align-self: flex-start;width: 50%;}#sk-container-id-2 div.sk-parallel-item:only-child::after {width: 0;}#sk-container-id-2 div.sk-dashed-wrapped {border: 1px dashed gray;margin: 0 0.4em 0.5em 0.4em;box-sizing: border-box;padding-bottom: 0.4em;background-color: white;}#sk-container-id-2 div.sk-label label {font-family: monospace;font-weight: bold;display: inline-block;line-height: 1.2em;}#sk-container-id-2 div.sk-label-container {text-align: center;}#sk-container-id-2 div.sk-container {/* jupyter's `normalize.less` sets `[hidden] { display: none; }` but bootstrap.min.css set `[hidden] { display: none !important; }` so we also need the `!important` here to be able to override the default hidden behavior on the sphinx rendered scikit-learn.org. See: https://github.com/scikit-learn/scikit-learn/issues/21755 */display: inline-block !important;position: relative;}#sk-container-id-2 div.sk-text-repr-fallback {display: none;}</style><div id=\"sk-container-id-2\" class=\"sk-top-container\"><div class=\"sk-text-repr-fallback\"><pre>RandomizedSearchCV(cv=5, estimator=RandomForestClassifier(), n_iter=5,\n",
              "                   param_distributions={&#x27;max_depth&#x27;: &lt;scipy.stats._distn_infrastructure.rv_discrete_frozen object at 0x7f7d55f46c70&gt;,\n",
              "                                        &#x27;n_estimators&#x27;: &lt;scipy.stats._distn_infrastructure.rv_discrete_frozen object at 0x7f7d55f41730&gt;})</pre><b>In a Jupyter environment, please rerun this cell to show the HTML representation or trust the notebook. <br />On GitHub, the HTML representation is unable to render, please try loading this page with nbviewer.org.</b></div><div class=\"sk-container\" hidden><div class=\"sk-item sk-dashed-wrapped\"><div class=\"sk-label-container\"><div class=\"sk-label sk-toggleable\"><input class=\"sk-toggleable__control sk-hidden--visually\" id=\"sk-estimator-id-4\" type=\"checkbox\" ><label for=\"sk-estimator-id-4\" class=\"sk-toggleable__label sk-toggleable__label-arrow\">RandomizedSearchCV</label><div class=\"sk-toggleable__content\"><pre>RandomizedSearchCV(cv=5, estimator=RandomForestClassifier(), n_iter=5,\n",
              "                   param_distributions={&#x27;max_depth&#x27;: &lt;scipy.stats._distn_infrastructure.rv_discrete_frozen object at 0x7f7d55f46c70&gt;,\n",
              "                                        &#x27;n_estimators&#x27;: &lt;scipy.stats._distn_infrastructure.rv_discrete_frozen object at 0x7f7d55f41730&gt;})</pre></div></div></div><div class=\"sk-parallel\"><div class=\"sk-parallel-item\"><div class=\"sk-item\"><div class=\"sk-label-container\"><div class=\"sk-label sk-toggleable\"><input class=\"sk-toggleable__control sk-hidden--visually\" id=\"sk-estimator-id-5\" type=\"checkbox\" ><label for=\"sk-estimator-id-5\" class=\"sk-toggleable__label sk-toggleable__label-arrow\">estimator: RandomForestClassifier</label><div class=\"sk-toggleable__content\"><pre>RandomForestClassifier()</pre></div></div></div><div class=\"sk-serial\"><div class=\"sk-item\"><div class=\"sk-estimator sk-toggleable\"><input class=\"sk-toggleable__control sk-hidden--visually\" id=\"sk-estimator-id-6\" type=\"checkbox\" ><label for=\"sk-estimator-id-6\" class=\"sk-toggleable__label sk-toggleable__label-arrow\">RandomForestClassifier</label><div class=\"sk-toggleable__content\"><pre>RandomForestClassifier()</pre></div></div></div></div></div></div></div></div></div></div>"
            ]
          },
          "metadata": {},
          "execution_count": 39
        }
      ]
    },
    {
      "cell_type": "code",
      "source": [
        "best_rf = rand_search.best_estimator_\n",
        "\n",
        "# Print the best hyperparameters\n",
        "print('Best hyperparameters:',  rand_search.best_params_)"
      ],
      "metadata": {
        "colab": {
          "base_uri": "https://localhost:8080/"
        },
        "id": "0kIPKF1BKfcI",
        "outputId": "aff29ab8-3548-4f53-ab8c-c67adc4d00e1"
      },
      "execution_count": 40,
      "outputs": [
        {
          "output_type": "stream",
          "name": "stdout",
          "text": [
            "Best hyperparameters: {'max_depth': 3, 'n_estimators': 131}\n"
          ]
        }
      ]
    },
    {
      "cell_type": "code",
      "source": [
        "y_pred = best_rf.predict(X_test)"
      ],
      "metadata": {
        "id": "9Mfuq3j_HHY3"
      },
      "execution_count": 41,
      "outputs": []
    },
    {
      "cell_type": "code",
      "source": [
        "accuracy = accuracy_score(y_test, y_pred)\n",
        "print(\"Accuracy:\", accuracy)"
      ],
      "metadata": {
        "colab": {
          "base_uri": "https://localhost:8080/"
        },
        "id": "CKHceVC3HPD3",
        "outputId": "4cfadbf4-7fd5-477f-d3d2-b06086f7f1ba"
      },
      "execution_count": 42,
      "outputs": [
        {
          "output_type": "stream",
          "name": "stdout",
          "text": [
            "Accuracy: 0.8947368421052632\n"
          ]
        }
      ]
    },
    {
      "cell_type": "code",
      "source": [
        "for i in range(3):\n",
        "  tree = best_rf.estimators_[i]\n",
        "  dot_data = export_graphviz(tree,\n",
        "                              feature_names=X_train.columns,  \n",
        "                              filled=True,  \n",
        "                              max_depth=2, \n",
        "                              impurity=False, \n",
        "                              proportion=True)\n",
        "  graph = graphviz.Source(dot_data)\n",
        "  display(graph)"
      ],
      "metadata": {
        "colab": {
          "base_uri": "https://localhost:8080/",
          "height": 1000
        },
        "id": "eQ-ro2HSHTjP",
        "outputId": "323861da-1c7c-4949-8b68-f26f66b936d3"
      },
      "execution_count": 43,
      "outputs": [
        {
          "output_type": "display_data",
          "data": {
            "text/plain": [
              "<graphviz.files.Source at 0x7f7d55f416a0>"
            ],
            "image/svg+xml": "<?xml version=\"1.0\" encoding=\"UTF-8\" standalone=\"no\"?>\n<!DOCTYPE svg PUBLIC \"-//W3C//DTD SVG 1.1//EN\"\n \"http://www.w3.org/Graphics/SVG/1.1/DTD/svg11.dtd\">\n<!-- Generated by graphviz version 2.43.0 (0)\n -->\n<!-- Title: Tree Pages: 1 -->\n<svg width=\"657pt\" height=\"311pt\"\n viewBox=\"0.00 0.00 656.50 311.00\" xmlns=\"http://www.w3.org/2000/svg\" xmlns:xlink=\"http://www.w3.org/1999/xlink\">\n<g id=\"graph0\" class=\"graph\" transform=\"scale(1 1) rotate(0) translate(4 307)\">\n<title>Tree</title>\n<polygon fill=\"white\" stroke=\"transparent\" points=\"-4,4 -4,-307 652.5,-307 652.5,4 -4,4\"/>\n<!-- 0 -->\n<g id=\"node1\" class=\"node\">\n<title>0</title>\n<polygon fill=\"#f7d9c3\" stroke=\"black\" points=\"394,-303 247,-303 247,-250 394,-250 394,-303\"/>\n<text text-anchor=\"middle\" x=\"320.5\" y=\"-287.8\" font-family=\"Helvetica,sans-Serif\" font-size=\"14.00\">Age &lt;= 43.5</text>\n<text text-anchor=\"middle\" x=\"320.5\" y=\"-272.8\" font-family=\"Helvetica,sans-Serif\" font-size=\"14.00\">samples = 100.0%</text>\n<text text-anchor=\"middle\" x=\"320.5\" y=\"-257.8\" font-family=\"Helvetica,sans-Serif\" font-size=\"14.00\">value = [0.589, 0.411]</text>\n</g>\n<!-- 1 -->\n<g id=\"node2\" class=\"node\">\n<title>1</title>\n<polygon fill=\"#eca26d\" stroke=\"black\" points=\"312,-214 165,-214 165,-161 312,-161 312,-214\"/>\n<text text-anchor=\"middle\" x=\"238.5\" y=\"-198.8\" font-family=\"Helvetica,sans-Serif\" font-size=\"14.00\">Age &lt;= 35.5</text>\n<text text-anchor=\"middle\" x=\"238.5\" y=\"-183.8\" font-family=\"Helvetica,sans-Serif\" font-size=\"14.00\">samples = 71.2%</text>\n<text text-anchor=\"middle\" x=\"238.5\" y=\"-168.8\" font-family=\"Helvetica,sans-Serif\" font-size=\"14.00\">value = [0.793, 0.207]</text>\n</g>\n<!-- 0&#45;&gt;1 -->\n<g id=\"edge1\" class=\"edge\">\n<title>0&#45;&gt;1</title>\n<path fill=\"none\" stroke=\"black\" d=\"M296.34,-249.87C287.99,-241.01 278.51,-230.95 269.68,-221.58\"/>\n<polygon fill=\"black\" stroke=\"black\" points=\"272.18,-219.13 262.77,-214.25 267.08,-223.93 272.18,-219.13\"/>\n<text text-anchor=\"middle\" x=\"262.03\" y=\"-235.54\" font-family=\"Helvetica,sans-Serif\" font-size=\"14.00\">True</text>\n</g>\n<!-- 8 -->\n<g id=\"node9\" class=\"node\">\n<title>8</title>\n<polygon fill=\"#51a9e8\" stroke=\"black\" points=\"469.5,-214 337.5,-214 337.5,-161 469.5,-161 469.5,-214\"/>\n<text text-anchor=\"middle\" x=\"403.5\" y=\"-198.8\" font-family=\"Helvetica,sans-Serif\" font-size=\"14.00\">Age &lt;= 58.5</text>\n<text text-anchor=\"middle\" x=\"403.5\" y=\"-183.8\" font-family=\"Helvetica,sans-Serif\" font-size=\"14.00\">samples = 28.8%</text>\n<text text-anchor=\"middle\" x=\"403.5\" y=\"-168.8\" font-family=\"Helvetica,sans-Serif\" font-size=\"14.00\">value = [0.11, 0.89]</text>\n</g>\n<!-- 0&#45;&gt;8 -->\n<g id=\"edge8\" class=\"edge\">\n<title>0&#45;&gt;8</title>\n<path fill=\"none\" stroke=\"black\" d=\"M344.95,-249.87C353.41,-241.01 363,-230.95 371.94,-221.58\"/>\n<polygon fill=\"black\" stroke=\"black\" points=\"374.56,-223.9 378.93,-214.25 369.5,-219.07 374.56,-223.9\"/>\n<text text-anchor=\"middle\" x=\"379.52\" y=\"-235.54\" font-family=\"Helvetica,sans-Serif\" font-size=\"14.00\">False</text>\n</g>\n<!-- 2 -->\n<g id=\"node3\" class=\"node\">\n<title>2</title>\n<polygon fill=\"#e88e4d\" stroke=\"black\" points=\"147,-125 0,-125 0,-72 147,-72 147,-125\"/>\n<text text-anchor=\"middle\" x=\"73.5\" y=\"-109.8\" font-family=\"Helvetica,sans-Serif\" font-size=\"14.00\">Age &lt;= 27.5</text>\n<text text-anchor=\"middle\" x=\"73.5\" y=\"-94.8\" font-family=\"Helvetica,sans-Serif\" font-size=\"14.00\">samples = 45.7%</text>\n<text text-anchor=\"middle\" x=\"73.5\" y=\"-79.8\" font-family=\"Helvetica,sans-Serif\" font-size=\"14.00\">value = [0.909, 0.091]</text>\n</g>\n<!-- 1&#45;&gt;2 -->\n<g id=\"edge2\" class=\"edge\">\n<title>1&#45;&gt;2</title>\n<path fill=\"none\" stroke=\"black\" d=\"M189.89,-160.87C171.42,-151.13 150.22,-139.95 131.01,-129.82\"/>\n<polygon fill=\"black\" stroke=\"black\" points=\"132.53,-126.67 122.05,-125.1 129.26,-132.86 132.53,-126.67\"/>\n</g>\n<!-- 5 -->\n<g id=\"node6\" class=\"node\">\n<title>5</title>\n<polygon fill=\"#f6d3ba\" stroke=\"black\" points=\"312,-125 165,-125 165,-72 312,-72 312,-125\"/>\n<text text-anchor=\"middle\" x=\"238.5\" y=\"-109.8\" font-family=\"Helvetica,sans-Serif\" font-size=\"14.00\">Salary &lt;= 83500.0</text>\n<text text-anchor=\"middle\" x=\"238.5\" y=\"-94.8\" font-family=\"Helvetica,sans-Serif\" font-size=\"14.00\">samples = 25.5%</text>\n<text text-anchor=\"middle\" x=\"238.5\" y=\"-79.8\" font-family=\"Helvetica,sans-Serif\" font-size=\"14.00\">value = [0.605, 0.395]</text>\n</g>\n<!-- 1&#45;&gt;5 -->\n<g id=\"edge5\" class=\"edge\">\n<title>1&#45;&gt;5</title>\n<path fill=\"none\" stroke=\"black\" d=\"M238.5,-160.87C238.5,-152.89 238.5,-143.93 238.5,-135.38\"/>\n<polygon fill=\"black\" stroke=\"black\" points=\"242,-135.25 238.5,-125.25 235,-135.25 242,-135.25\"/>\n</g>\n<!-- 3 -->\n<g id=\"node4\" class=\"node\">\n<title>3</title>\n<polygon fill=\"#c0c0c0\" stroke=\"black\" points=\"96.5,-36 42.5,-36 42.5,0 96.5,0 96.5,-36\"/>\n<text text-anchor=\"middle\" x=\"69.5\" y=\"-14.3\" font-family=\"Helvetica,sans-Serif\" font-size=\"14.00\">(...)</text>\n</g>\n<!-- 2&#45;&gt;3 -->\n<g id=\"edge3\" class=\"edge\">\n<title>2&#45;&gt;3</title>\n<path fill=\"none\" stroke=\"black\" d=\"M72.19,-71.8C71.78,-63.71 71.32,-54.76 70.9,-46.55\"/>\n<polygon fill=\"black\" stroke=\"black\" points=\"74.39,-46.14 70.38,-36.33 67.4,-46.5 74.39,-46.14\"/>\n</g>\n<!-- 4 -->\n<g id=\"node5\" class=\"node\">\n<title>4</title>\n<polygon fill=\"#c0c0c0\" stroke=\"black\" points=\"168.5,-36 114.5,-36 114.5,0 168.5,0 168.5,-36\"/>\n<text text-anchor=\"middle\" x=\"141.5\" y=\"-14.3\" font-family=\"Helvetica,sans-Serif\" font-size=\"14.00\">(...)</text>\n</g>\n<!-- 2&#45;&gt;4 -->\n<g id=\"edge4\" class=\"edge\">\n<title>2&#45;&gt;4</title>\n<path fill=\"none\" stroke=\"black\" d=\"M95.77,-71.8C103.48,-62.9 112.1,-52.93 119.77,-44.08\"/>\n<polygon fill=\"black\" stroke=\"black\" points=\"122.59,-46.18 126.49,-36.33 117.29,-41.6 122.59,-46.18\"/>\n</g>\n<!-- 6 -->\n<g id=\"node7\" class=\"node\">\n<title>6</title>\n<polygon fill=\"#c0c0c0\" stroke=\"black\" points=\"252.5,-36 198.5,-36 198.5,0 252.5,0 252.5,-36\"/>\n<text text-anchor=\"middle\" x=\"225.5\" y=\"-14.3\" font-family=\"Helvetica,sans-Serif\" font-size=\"14.00\">(...)</text>\n</g>\n<!-- 5&#45;&gt;6 -->\n<g id=\"edge6\" class=\"edge\">\n<title>5&#45;&gt;6</title>\n<path fill=\"none\" stroke=\"black\" d=\"M234.24,-71.8C232.89,-63.62 231.39,-54.55 230.02,-46.27\"/>\n<polygon fill=\"black\" stroke=\"black\" points=\"233.46,-45.62 228.37,-36.33 226.55,-46.77 233.46,-45.62\"/>\n</g>\n<!-- 7 -->\n<g id=\"node8\" class=\"node\">\n<title>7</title>\n<polygon fill=\"#c0c0c0\" stroke=\"black\" points=\"324.5,-36 270.5,-36 270.5,0 324.5,0 324.5,-36\"/>\n<text text-anchor=\"middle\" x=\"297.5\" y=\"-14.3\" font-family=\"Helvetica,sans-Serif\" font-size=\"14.00\">(...)</text>\n</g>\n<!-- 5&#45;&gt;7 -->\n<g id=\"edge7\" class=\"edge\">\n<title>5&#45;&gt;7</title>\n<path fill=\"none\" stroke=\"black\" d=\"M257.82,-71.8C264.44,-62.99 271.84,-53.14 278.44,-44.36\"/>\n<polygon fill=\"black\" stroke=\"black\" points=\"281.26,-46.43 284.47,-36.33 275.67,-42.22 281.26,-46.43\"/>\n</g>\n<!-- 9 -->\n<g id=\"node10\" class=\"node\">\n<title>9</title>\n<polygon fill=\"#4ea7e8\" stroke=\"black\" points=\"477,-125 330,-125 330,-72 477,-72 477,-125\"/>\n<text text-anchor=\"middle\" x=\"403.5\" y=\"-109.8\" font-family=\"Helvetica,sans-Serif\" font-size=\"14.00\">Salary &lt;= 42000.0</text>\n<text text-anchor=\"middle\" x=\"403.5\" y=\"-94.8\" font-family=\"Helvetica,sans-Serif\" font-size=\"14.00\">samples = 26.1%</text>\n<text text-anchor=\"middle\" x=\"403.5\" y=\"-79.8\" font-family=\"Helvetica,sans-Serif\" font-size=\"14.00\">value = [0.095, 0.905]</text>\n</g>\n<!-- 8&#45;&gt;9 -->\n<g id=\"edge9\" class=\"edge\">\n<title>8&#45;&gt;9</title>\n<path fill=\"none\" stroke=\"black\" d=\"M403.5,-160.87C403.5,-152.89 403.5,-143.93 403.5,-135.38\"/>\n<polygon fill=\"black\" stroke=\"black\" points=\"407,-135.25 403.5,-125.25 400,-135.25 407,-135.25\"/>\n</g>\n<!-- 12 -->\n<g id=\"node13\" class=\"node\">\n<title>12</title>\n<polygon fill=\"#88c4ef\" stroke=\"black\" points=\"642,-125 495,-125 495,-72 642,-72 642,-125\"/>\n<text text-anchor=\"middle\" x=\"568.5\" y=\"-109.8\" font-family=\"Helvetica,sans-Serif\" font-size=\"14.00\">Age &lt;= 59.5</text>\n<text text-anchor=\"middle\" x=\"568.5\" y=\"-94.8\" font-family=\"Helvetica,sans-Serif\" font-size=\"14.00\">samples = 2.7%</text>\n<text text-anchor=\"middle\" x=\"568.5\" y=\"-79.8\" font-family=\"Helvetica,sans-Serif\" font-size=\"14.00\">value = [0.286, 0.714]</text>\n</g>\n<!-- 8&#45;&gt;12 -->\n<g id=\"edge12\" class=\"edge\">\n<title>8&#45;&gt;12</title>\n<path fill=\"none\" stroke=\"black\" d=\"M452.11,-160.87C470.58,-151.13 491.78,-139.95 510.99,-129.82\"/>\n<polygon fill=\"black\" stroke=\"black\" points=\"512.74,-132.86 519.95,-125.1 509.47,-126.67 512.74,-132.86\"/>\n</g>\n<!-- 10 -->\n<g id=\"node11\" class=\"node\">\n<title>10</title>\n<polygon fill=\"#c0c0c0\" stroke=\"black\" points=\"413.5,-36 359.5,-36 359.5,0 413.5,0 413.5,-36\"/>\n<text text-anchor=\"middle\" x=\"386.5\" y=\"-14.3\" font-family=\"Helvetica,sans-Serif\" font-size=\"14.00\">(...)</text>\n</g>\n<!-- 9&#45;&gt;10 -->\n<g id=\"edge10\" class=\"edge\">\n<title>9&#45;&gt;10</title>\n<path fill=\"none\" stroke=\"black\" d=\"M397.93,-71.8C396.16,-63.62 394.2,-54.55 392.41,-46.27\"/>\n<polygon fill=\"black\" stroke=\"black\" points=\"395.79,-45.36 390.25,-36.33 388.95,-46.84 395.79,-45.36\"/>\n</g>\n<!-- 11 -->\n<g id=\"node12\" class=\"node\">\n<title>11</title>\n<polygon fill=\"#c0c0c0\" stroke=\"black\" points=\"485.5,-36 431.5,-36 431.5,0 485.5,0 485.5,-36\"/>\n<text text-anchor=\"middle\" x=\"458.5\" y=\"-14.3\" font-family=\"Helvetica,sans-Serif\" font-size=\"14.00\">(...)</text>\n</g>\n<!-- 9&#45;&gt;11 -->\n<g id=\"edge11\" class=\"edge\">\n<title>9&#45;&gt;11</title>\n<path fill=\"none\" stroke=\"black\" d=\"M421.51,-71.8C427.62,-63.08 434.44,-53.34 440.54,-44.63\"/>\n<polygon fill=\"black\" stroke=\"black\" points=\"443.49,-46.53 446.36,-36.33 437.75,-42.51 443.49,-46.53\"/>\n</g>\n<!-- 13 -->\n<g id=\"node14\" class=\"node\">\n<title>13</title>\n<polygon fill=\"#c0c0c0\" stroke=\"black\" points=\"576.5,-36 522.5,-36 522.5,0 576.5,0 576.5,-36\"/>\n<text text-anchor=\"middle\" x=\"549.5\" y=\"-14.3\" font-family=\"Helvetica,sans-Serif\" font-size=\"14.00\">(...)</text>\n</g>\n<!-- 12&#45;&gt;13 -->\n<g id=\"edge13\" class=\"edge\">\n<title>12&#45;&gt;13</title>\n<path fill=\"none\" stroke=\"black\" d=\"M562.28,-71.8C560.3,-63.62 558.11,-54.55 556.1,-46.27\"/>\n<polygon fill=\"black\" stroke=\"black\" points=\"559.45,-45.23 553.69,-36.33 552.65,-46.87 559.45,-45.23\"/>\n</g>\n<!-- 14 -->\n<g id=\"node15\" class=\"node\">\n<title>14</title>\n<polygon fill=\"#c0c0c0\" stroke=\"black\" points=\"648.5,-36 594.5,-36 594.5,0 648.5,0 648.5,-36\"/>\n<text text-anchor=\"middle\" x=\"621.5\" y=\"-14.3\" font-family=\"Helvetica,sans-Serif\" font-size=\"14.00\">(...)</text>\n</g>\n<!-- 12&#45;&gt;14 -->\n<g id=\"edge14\" class=\"edge\">\n<title>12&#45;&gt;14</title>\n<path fill=\"none\" stroke=\"black\" d=\"M585.85,-71.8C591.74,-63.08 598.31,-53.34 604.2,-44.63\"/>\n<polygon fill=\"black\" stroke=\"black\" points=\"607.1,-46.58 609.8,-36.33 601.3,-42.66 607.1,-46.58\"/>\n</g>\n</g>\n</svg>\n"
          },
          "metadata": {}
        },
        {
          "output_type": "display_data",
          "data": {
            "text/plain": [
              "<graphviz.files.Source at 0x7f7d55f41d30>"
            ],
            "image/svg+xml": "<?xml version=\"1.0\" encoding=\"UTF-8\" standalone=\"no\"?>\n<!DOCTYPE svg PUBLIC \"-//W3C//DTD SVG 1.1//EN\"\n \"http://www.w3.org/Graphics/SVG/1.1/DTD/svg11.dtd\">\n<!-- Generated by graphviz version 2.43.0 (0)\n -->\n<!-- Title: Tree Pages: 1 -->\n<svg width=\"620pt\" height=\"311pt\"\n viewBox=\"0.00 0.00 620.00 311.00\" xmlns=\"http://www.w3.org/2000/svg\" xmlns:xlink=\"http://www.w3.org/1999/xlink\">\n<g id=\"graph0\" class=\"graph\" transform=\"scale(1 1) rotate(0) translate(4 307)\">\n<title>Tree</title>\n<polygon fill=\"white\" stroke=\"transparent\" points=\"-4,4 -4,-307 616,-307 616,4 -4,4\"/>\n<!-- 0 -->\n<g id=\"node1\" class=\"node\">\n<title>0</title>\n<polygon fill=\"#f5d0b5\" stroke=\"black\" points=\"394,-303 247,-303 247,-250 394,-250 394,-303\"/>\n<text text-anchor=\"middle\" x=\"320.5\" y=\"-287.8\" font-family=\"Helvetica,sans-Serif\" font-size=\"14.00\">Salary &lt;= 90500.0</text>\n<text text-anchor=\"middle\" x=\"320.5\" y=\"-272.8\" font-family=\"Helvetica,sans-Serif\" font-size=\"14.00\">samples = 100.0%</text>\n<text text-anchor=\"middle\" x=\"320.5\" y=\"-257.8\" font-family=\"Helvetica,sans-Serif\" font-size=\"14.00\">value = [0.615, 0.385]</text>\n</g>\n<!-- 1 -->\n<g id=\"node2\" class=\"node\">\n<title>1</title>\n<polygon fill=\"#eda877\" stroke=\"black\" points=\"312,-214 165,-214 165,-161 312,-161 312,-214\"/>\n<text text-anchor=\"middle\" x=\"238.5\" y=\"-198.8\" font-family=\"Helvetica,sans-Serif\" font-size=\"14.00\">Salary &lt;= 51500.0</text>\n<text text-anchor=\"middle\" x=\"238.5\" y=\"-183.8\" font-family=\"Helvetica,sans-Serif\" font-size=\"14.00\">samples = 78.9%</text>\n<text text-anchor=\"middle\" x=\"238.5\" y=\"-168.8\" font-family=\"Helvetica,sans-Serif\" font-size=\"14.00\">value = [0.762, 0.238]</text>\n</g>\n<!-- 0&#45;&gt;1 -->\n<g id=\"edge1\" class=\"edge\">\n<title>0&#45;&gt;1</title>\n<path fill=\"none\" stroke=\"black\" d=\"M296.34,-249.87C287.99,-241.01 278.51,-230.95 269.68,-221.58\"/>\n<polygon fill=\"black\" stroke=\"black\" points=\"272.18,-219.13 262.77,-214.25 267.08,-223.93 272.18,-219.13\"/>\n<text text-anchor=\"middle\" x=\"262.03\" y=\"-235.54\" font-family=\"Helvetica,sans-Serif\" font-size=\"14.00\">True</text>\n</g>\n<!-- 8 -->\n<g id=\"node9\" class=\"node\">\n<title>8</title>\n<polygon fill=\"#53aae8\" stroke=\"black\" points=\"477,-214 330,-214 330,-161 477,-161 477,-214\"/>\n<text text-anchor=\"middle\" x=\"403.5\" y=\"-198.8\" font-family=\"Helvetica,sans-Serif\" font-size=\"14.00\">Salary &lt;= 134500.0</text>\n<text text-anchor=\"middle\" x=\"403.5\" y=\"-183.8\" font-family=\"Helvetica,sans-Serif\" font-size=\"14.00\">samples = 21.1%</text>\n<text text-anchor=\"middle\" x=\"403.5\" y=\"-168.8\" font-family=\"Helvetica,sans-Serif\" font-size=\"14.00\">value = [0.116, 0.884]</text>\n</g>\n<!-- 0&#45;&gt;8 -->\n<g id=\"edge8\" class=\"edge\">\n<title>0&#45;&gt;8</title>\n<path fill=\"none\" stroke=\"black\" d=\"M344.95,-249.87C353.41,-241.01 363,-230.95 371.94,-221.58\"/>\n<polygon fill=\"black\" stroke=\"black\" points=\"374.56,-223.9 378.93,-214.25 369.5,-219.07 374.56,-223.9\"/>\n<text text-anchor=\"middle\" x=\"379.52\" y=\"-235.54\" font-family=\"Helvetica,sans-Serif\" font-size=\"14.00\">False</text>\n</g>\n<!-- 2 -->\n<g id=\"node3\" class=\"node\">\n<title>2</title>\n<polygon fill=\"#f4caac\" stroke=\"black\" points=\"147,-125 0,-125 0,-72 147,-72 147,-125\"/>\n<text text-anchor=\"middle\" x=\"73.5\" y=\"-109.8\" font-family=\"Helvetica,sans-Serif\" font-size=\"14.00\">Age &lt;= 43.0</text>\n<text text-anchor=\"middle\" x=\"73.5\" y=\"-94.8\" font-family=\"Helvetica,sans-Serif\" font-size=\"14.00\">samples = 30.0%</text>\n<text text-anchor=\"middle\" x=\"73.5\" y=\"-79.8\" font-family=\"Helvetica,sans-Serif\" font-size=\"14.00\">value = [0.633, 0.367]</text>\n</g>\n<!-- 1&#45;&gt;2 -->\n<g id=\"edge2\" class=\"edge\">\n<title>1&#45;&gt;2</title>\n<path fill=\"none\" stroke=\"black\" d=\"M189.89,-160.87C171.42,-151.13 150.22,-139.95 131.01,-129.82\"/>\n<polygon fill=\"black\" stroke=\"black\" points=\"132.53,-126.67 122.05,-125.1 129.26,-132.86 132.53,-126.67\"/>\n</g>\n<!-- 5 -->\n<g id=\"node6\" class=\"node\">\n<title>5</title>\n<polygon fill=\"#ea995e\" stroke=\"black\" points=\"312,-125 165,-125 165,-72 312,-72 312,-125\"/>\n<text text-anchor=\"middle\" x=\"238.5\" y=\"-109.8\" font-family=\"Helvetica,sans-Serif\" font-size=\"14.00\">Salary &lt;= 87500.0</text>\n<text text-anchor=\"middle\" x=\"238.5\" y=\"-94.8\" font-family=\"Helvetica,sans-Serif\" font-size=\"14.00\">samples = 48.9%</text>\n<text text-anchor=\"middle\" x=\"238.5\" y=\"-79.8\" font-family=\"Helvetica,sans-Serif\" font-size=\"14.00\">value = [0.841, 0.159]</text>\n</g>\n<!-- 1&#45;&gt;5 -->\n<g id=\"edge5\" class=\"edge\">\n<title>1&#45;&gt;5</title>\n<path fill=\"none\" stroke=\"black\" d=\"M238.5,-160.87C238.5,-152.89 238.5,-143.93 238.5,-135.38\"/>\n<polygon fill=\"black\" stroke=\"black\" points=\"242,-135.25 238.5,-125.25 235,-135.25 242,-135.25\"/>\n</g>\n<!-- 3 -->\n<g id=\"node4\" class=\"node\">\n<title>3</title>\n<polygon fill=\"#c0c0c0\" stroke=\"black\" points=\"85.5,-36 31.5,-36 31.5,0 85.5,0 85.5,-36\"/>\n<text text-anchor=\"middle\" x=\"58.5\" y=\"-14.3\" font-family=\"Helvetica,sans-Serif\" font-size=\"14.00\">(...)</text>\n</g>\n<!-- 2&#45;&gt;3 -->\n<g id=\"edge3\" class=\"edge\">\n<title>2&#45;&gt;3</title>\n<path fill=\"none\" stroke=\"black\" d=\"M68.59,-71.8C67.03,-63.62 65.29,-54.55 63.71,-46.27\"/>\n<polygon fill=\"black\" stroke=\"black\" points=\"67.13,-45.5 61.81,-36.33 60.25,-46.81 67.13,-45.5\"/>\n</g>\n<!-- 4 -->\n<g id=\"node5\" class=\"node\">\n<title>4</title>\n<polygon fill=\"#c0c0c0\" stroke=\"black\" points=\"157.5,-36 103.5,-36 103.5,0 157.5,0 157.5,-36\"/>\n<text text-anchor=\"middle\" x=\"130.5\" y=\"-14.3\" font-family=\"Helvetica,sans-Serif\" font-size=\"14.00\">(...)</text>\n</g>\n<!-- 2&#45;&gt;4 -->\n<g id=\"edge4\" class=\"edge\">\n<title>2&#45;&gt;4</title>\n<path fill=\"none\" stroke=\"black\" d=\"M92.16,-71.8C98.5,-63.08 105.56,-53.34 111.89,-44.63\"/>\n<polygon fill=\"black\" stroke=\"black\" points=\"114.87,-46.48 117.92,-36.33 109.21,-42.37 114.87,-46.48\"/>\n</g>\n<!-- 6 -->\n<g id=\"node7\" class=\"node\">\n<title>6</title>\n<polygon fill=\"#c0c0c0\" stroke=\"black\" points=\"247.5,-36 193.5,-36 193.5,0 247.5,0 247.5,-36\"/>\n<text text-anchor=\"middle\" x=\"220.5\" y=\"-14.3\" font-family=\"Helvetica,sans-Serif\" font-size=\"14.00\">(...)</text>\n</g>\n<!-- 5&#45;&gt;6 -->\n<g id=\"edge6\" class=\"edge\">\n<title>5&#45;&gt;6</title>\n<path fill=\"none\" stroke=\"black\" d=\"M232.61,-71.8C230.73,-63.62 228.65,-54.55 226.75,-46.27\"/>\n<polygon fill=\"black\" stroke=\"black\" points=\"230.12,-45.3 224.47,-36.33 223.3,-46.86 230.12,-45.3\"/>\n</g>\n<!-- 7 -->\n<g id=\"node8\" class=\"node\">\n<title>7</title>\n<polygon fill=\"#c0c0c0\" stroke=\"black\" points=\"319.5,-36 265.5,-36 265.5,0 319.5,0 319.5,-36\"/>\n<text text-anchor=\"middle\" x=\"292.5\" y=\"-14.3\" font-family=\"Helvetica,sans-Serif\" font-size=\"14.00\">(...)</text>\n</g>\n<!-- 5&#45;&gt;7 -->\n<g id=\"edge7\" class=\"edge\">\n<title>5&#45;&gt;7</title>\n<path fill=\"none\" stroke=\"black\" d=\"M256.18,-71.8C262.18,-63.08 268.88,-53.34 274.87,-44.63\"/>\n<polygon fill=\"black\" stroke=\"black\" points=\"277.79,-46.55 280.58,-36.33 272.03,-42.59 277.79,-46.55\"/>\n</g>\n<!-- 9 -->\n<g id=\"node10\" class=\"node\">\n<title>9</title>\n<polygon fill=\"#60b0ea\" stroke=\"black\" points=\"477,-125 330,-125 330,-72 477,-72 477,-125\"/>\n<text text-anchor=\"middle\" x=\"403.5\" y=\"-109.8\" font-family=\"Helvetica,sans-Serif\" font-size=\"14.00\">Salary &lt;= 109500.0</text>\n<text text-anchor=\"middle\" x=\"403.5\" y=\"-94.8\" font-family=\"Helvetica,sans-Serif\" font-size=\"14.00\">samples = 14.7%</text>\n<text text-anchor=\"middle\" x=\"403.5\" y=\"-79.8\" font-family=\"Helvetica,sans-Serif\" font-size=\"14.00\">value = [0.163, 0.837]</text>\n</g>\n<!-- 8&#45;&gt;9 -->\n<g id=\"edge9\" class=\"edge\">\n<title>8&#45;&gt;9</title>\n<path fill=\"none\" stroke=\"black\" d=\"M403.5,-160.87C403.5,-152.89 403.5,-143.93 403.5,-135.38\"/>\n<polygon fill=\"black\" stroke=\"black\" points=\"407,-135.25 403.5,-125.25 400,-135.25 407,-135.25\"/>\n</g>\n<!-- 12 -->\n<g id=\"node13\" class=\"node\">\n<title>12</title>\n<polygon fill=\"#399de5\" stroke=\"black\" points=\"612,-117.5 495,-117.5 495,-79.5 612,-79.5 612,-117.5\"/>\n<text text-anchor=\"middle\" x=\"553.5\" y=\"-102.3\" font-family=\"Helvetica,sans-Serif\" font-size=\"14.00\">samples = 6.3%</text>\n<text text-anchor=\"middle\" x=\"553.5\" y=\"-87.3\" font-family=\"Helvetica,sans-Serif\" font-size=\"14.00\">value = [0.0, 1.0]</text>\n</g>\n<!-- 8&#45;&gt;12 -->\n<g id=\"edge12\" class=\"edge\">\n<title>8&#45;&gt;12</title>\n<path fill=\"none\" stroke=\"black\" d=\"M447.69,-160.87C468.62,-148.73 493.42,-134.35 513.75,-122.55\"/>\n<polygon fill=\"black\" stroke=\"black\" points=\"515.56,-125.55 522.45,-117.51 512.05,-119.5 515.56,-125.55\"/>\n</g>\n<!-- 10 -->\n<g id=\"node11\" class=\"node\">\n<title>10</title>\n<polygon fill=\"#c0c0c0\" stroke=\"black\" points=\"410.5,-36 356.5,-36 356.5,0 410.5,0 410.5,-36\"/>\n<text text-anchor=\"middle\" x=\"383.5\" y=\"-14.3\" font-family=\"Helvetica,sans-Serif\" font-size=\"14.00\">(...)</text>\n</g>\n<!-- 9&#45;&gt;10 -->\n<g id=\"edge10\" class=\"edge\">\n<title>9&#45;&gt;10</title>\n<path fill=\"none\" stroke=\"black\" d=\"M396.95,-71.8C394.87,-63.62 392.56,-54.55 390.45,-46.27\"/>\n<polygon fill=\"black\" stroke=\"black\" points=\"393.78,-45.16 387.92,-36.33 386.99,-46.88 393.78,-45.16\"/>\n</g>\n<!-- 11 -->\n<g id=\"node12\" class=\"node\">\n<title>11</title>\n<polygon fill=\"#c0c0c0\" stroke=\"black\" points=\"482.5,-36 428.5,-36 428.5,0 482.5,0 482.5,-36\"/>\n<text text-anchor=\"middle\" x=\"455.5\" y=\"-14.3\" font-family=\"Helvetica,sans-Serif\" font-size=\"14.00\">(...)</text>\n</g>\n<!-- 9&#45;&gt;11 -->\n<g id=\"edge11\" class=\"edge\">\n<title>9&#45;&gt;11</title>\n<path fill=\"none\" stroke=\"black\" d=\"M420.53,-71.8C426.24,-63.17 432.62,-53.54 438.34,-44.9\"/>\n<polygon fill=\"black\" stroke=\"black\" points=\"441.42,-46.6 444.02,-36.33 435.58,-42.73 441.42,-46.6\"/>\n</g>\n</g>\n</svg>\n"
          },
          "metadata": {}
        },
        {
          "output_type": "display_data",
          "data": {
            "text/plain": [
              "<graphviz.files.Source at 0x7f7d55f416a0>"
            ],
            "image/svg+xml": "<?xml version=\"1.0\" encoding=\"UTF-8\" standalone=\"no\"?>\n<!DOCTYPE svg PUBLIC \"-//W3C//DTD SVG 1.1//EN\"\n \"http://www.w3.org/Graphics/SVG/1.1/DTD/svg11.dtd\">\n<!-- Generated by graphviz version 2.43.0 (0)\n -->\n<!-- Title: Tree Pages: 1 -->\n<svg width=\"647pt\" height=\"311pt\"\n viewBox=\"0.00 0.00 646.50 311.00\" xmlns=\"http://www.w3.org/2000/svg\" xmlns:xlink=\"http://www.w3.org/1999/xlink\">\n<g id=\"graph0\" class=\"graph\" transform=\"scale(1 1) rotate(0) translate(4 307)\">\n<title>Tree</title>\n<polygon fill=\"white\" stroke=\"transparent\" points=\"-4,4 -4,-307 642.5,-307 642.5,4 -4,4\"/>\n<!-- 0 -->\n<g id=\"node1\" class=\"node\">\n<title>0</title>\n<polygon fill=\"#f4c9ab\" stroke=\"black\" points=\"392,-303 245,-303 245,-250 392,-250 392,-303\"/>\n<text text-anchor=\"middle\" x=\"318.5\" y=\"-287.8\" font-family=\"Helvetica,sans-Serif\" font-size=\"14.00\">Age &lt;= 43.5</text>\n<text text-anchor=\"middle\" x=\"318.5\" y=\"-272.8\" font-family=\"Helvetica,sans-Serif\" font-size=\"14.00\">samples = 100.0%</text>\n<text text-anchor=\"middle\" x=\"318.5\" y=\"-257.8\" font-family=\"Helvetica,sans-Serif\" font-size=\"14.00\">value = [0.635, 0.365]</text>\n</g>\n<!-- 1 -->\n<g id=\"node2\" class=\"node\">\n<title>1</title>\n<polygon fill=\"#eb9c64\" stroke=\"black\" points=\"310,-214 163,-214 163,-161 310,-161 310,-214\"/>\n<text text-anchor=\"middle\" x=\"236.5\" y=\"-198.8\" font-family=\"Helvetica,sans-Serif\" font-size=\"14.00\">Salary &lt;= 89500.0</text>\n<text text-anchor=\"middle\" x=\"236.5\" y=\"-183.8\" font-family=\"Helvetica,sans-Serif\" font-size=\"14.00\">samples = 71.4%</text>\n<text text-anchor=\"middle\" x=\"236.5\" y=\"-168.8\" font-family=\"Helvetica,sans-Serif\" font-size=\"14.00\">value = [0.822, 0.178]</text>\n</g>\n<!-- 0&#45;&gt;1 -->\n<g id=\"edge1\" class=\"edge\">\n<title>0&#45;&gt;1</title>\n<path fill=\"none\" stroke=\"black\" d=\"M294.34,-249.87C285.99,-241.01 276.51,-230.95 267.68,-221.58\"/>\n<polygon fill=\"black\" stroke=\"black\" points=\"270.18,-219.13 260.77,-214.25 265.08,-223.93 270.18,-219.13\"/>\n<text text-anchor=\"middle\" x=\"260.03\" y=\"-235.54\" font-family=\"Helvetica,sans-Serif\" font-size=\"14.00\">True</text>\n</g>\n<!-- 8 -->\n<g id=\"node9\" class=\"node\">\n<title>8</title>\n<polygon fill=\"#5dafea\" stroke=\"black\" points=\"475,-214 328,-214 328,-161 475,-161 475,-214\"/>\n<text text-anchor=\"middle\" x=\"401.5\" y=\"-198.8\" font-family=\"Helvetica,sans-Serif\" font-size=\"14.00\">Age &lt;= 48.5</text>\n<text text-anchor=\"middle\" x=\"401.5\" y=\"-183.8\" font-family=\"Helvetica,sans-Serif\" font-size=\"14.00\">samples = 28.6%</text>\n<text text-anchor=\"middle\" x=\"401.5\" y=\"-168.8\" font-family=\"Helvetica,sans-Serif\" font-size=\"14.00\">value = [0.153, 0.847]</text>\n</g>\n<!-- 0&#45;&gt;8 -->\n<g id=\"edge8\" class=\"edge\">\n<title>0&#45;&gt;8</title>\n<path fill=\"none\" stroke=\"black\" d=\"M342.95,-249.87C351.41,-241.01 361,-230.95 369.94,-221.58\"/>\n<polygon fill=\"black\" stroke=\"black\" points=\"372.56,-223.9 376.93,-214.25 367.5,-219.07 372.56,-223.9\"/>\n<text text-anchor=\"middle\" x=\"377.52\" y=\"-235.54\" font-family=\"Helvetica,sans-Serif\" font-size=\"14.00\">False</text>\n</g>\n<!-- 2 -->\n<g id=\"node3\" class=\"node\">\n<title>2</title>\n<polygon fill=\"#e68742\" stroke=\"black\" points=\"147,-125 0,-125 0,-72 147,-72 147,-125\"/>\n<text text-anchor=\"middle\" x=\"73.5\" y=\"-109.8\" font-family=\"Helvetica,sans-Serif\" font-size=\"14.00\">Age &lt;= 38.5</text>\n<text text-anchor=\"middle\" x=\"73.5\" y=\"-94.8\" font-family=\"Helvetica,sans-Serif\" font-size=\"14.00\">samples = 55.7%</text>\n<text text-anchor=\"middle\" x=\"73.5\" y=\"-79.8\" font-family=\"Helvetica,sans-Serif\" font-size=\"14.00\">value = [0.955, 0.045]</text>\n</g>\n<!-- 1&#45;&gt;2 -->\n<g id=\"edge2\" class=\"edge\">\n<title>1&#45;&gt;2</title>\n<path fill=\"none\" stroke=\"black\" d=\"M188.48,-160.87C170.24,-151.13 149.29,-139.95 130.31,-129.82\"/>\n<polygon fill=\"black\" stroke=\"black\" points=\"131.93,-126.72 121.46,-125.1 128.64,-132.9 131.93,-126.72\"/>\n</g>\n<!-- 5 -->\n<g id=\"node6\" class=\"node\">\n<title>5</title>\n<polygon fill=\"#7fc0ee\" stroke=\"black\" points=\"312,-125 165,-125 165,-72 312,-72 312,-125\"/>\n<text text-anchor=\"middle\" x=\"238.5\" y=\"-109.8\" font-family=\"Helvetica,sans-Serif\" font-size=\"14.00\">Salary &lt;= 133500.0</text>\n<text text-anchor=\"middle\" x=\"238.5\" y=\"-94.8\" font-family=\"Helvetica,sans-Serif\" font-size=\"14.00\">samples = 15.6%</text>\n<text text-anchor=\"middle\" x=\"238.5\" y=\"-79.8\" font-family=\"Helvetica,sans-Serif\" font-size=\"14.00\">value = [0.262, 0.738]</text>\n</g>\n<!-- 1&#45;&gt;5 -->\n<g id=\"edge5\" class=\"edge\">\n<title>1&#45;&gt;5</title>\n<path fill=\"none\" stroke=\"black\" d=\"M237.09,-160.87C237.27,-152.89 237.48,-143.93 237.68,-135.38\"/>\n<polygon fill=\"black\" stroke=\"black\" points=\"241.18,-135.33 237.91,-125.25 234.18,-135.17 241.18,-135.33\"/>\n</g>\n<!-- 3 -->\n<g id=\"node4\" class=\"node\">\n<title>3</title>\n<polygon fill=\"#c0c0c0\" stroke=\"black\" points=\"89.5,-36 35.5,-36 35.5,0 89.5,0 89.5,-36\"/>\n<text text-anchor=\"middle\" x=\"62.5\" y=\"-14.3\" font-family=\"Helvetica,sans-Serif\" font-size=\"14.00\">(...)</text>\n</g>\n<!-- 2&#45;&gt;3 -->\n<g id=\"edge3\" class=\"edge\">\n<title>2&#45;&gt;3</title>\n<path fill=\"none\" stroke=\"black\" d=\"M69.9,-71.8C68.75,-63.62 67.48,-54.55 66.32,-46.27\"/>\n<polygon fill=\"black\" stroke=\"black\" points=\"69.78,-45.75 64.93,-36.33 62.85,-46.72 69.78,-45.75\"/>\n</g>\n<!-- 4 -->\n<g id=\"node5\" class=\"node\">\n<title>4</title>\n<polygon fill=\"#c0c0c0\" stroke=\"black\" points=\"161.5,-36 107.5,-36 107.5,0 161.5,0 161.5,-36\"/>\n<text text-anchor=\"middle\" x=\"134.5\" y=\"-14.3\" font-family=\"Helvetica,sans-Serif\" font-size=\"14.00\">(...)</text>\n</g>\n<!-- 2&#45;&gt;4 -->\n<g id=\"edge4\" class=\"edge\">\n<title>2&#45;&gt;4</title>\n<path fill=\"none\" stroke=\"black\" d=\"M93.47,-71.8C100.32,-62.99 107.97,-53.14 114.8,-44.36\"/>\n<polygon fill=\"black\" stroke=\"black\" points=\"117.66,-46.37 121.03,-36.33 112.13,-42.08 117.66,-46.37\"/>\n</g>\n<!-- 6 -->\n<g id=\"node7\" class=\"node\">\n<title>6</title>\n<polygon fill=\"#c0c0c0\" stroke=\"black\" points=\"249.5,-36 195.5,-36 195.5,0 249.5,0 249.5,-36\"/>\n<text text-anchor=\"middle\" x=\"222.5\" y=\"-14.3\" font-family=\"Helvetica,sans-Serif\" font-size=\"14.00\">(...)</text>\n</g>\n<!-- 5&#45;&gt;6 -->\n<g id=\"edge6\" class=\"edge\">\n<title>5&#45;&gt;6</title>\n<path fill=\"none\" stroke=\"black\" d=\"M233.26,-71.8C231.59,-63.62 229.75,-54.55 228.06,-46.27\"/>\n<polygon fill=\"black\" stroke=\"black\" points=\"231.46,-45.43 226.03,-36.33 224.6,-46.83 231.46,-45.43\"/>\n</g>\n<!-- 7 -->\n<g id=\"node8\" class=\"node\">\n<title>7</title>\n<polygon fill=\"#c0c0c0\" stroke=\"black\" points=\"321.5,-36 267.5,-36 267.5,0 321.5,0 321.5,-36\"/>\n<text text-anchor=\"middle\" x=\"294.5\" y=\"-14.3\" font-family=\"Helvetica,sans-Serif\" font-size=\"14.00\">(...)</text>\n</g>\n<!-- 5&#45;&gt;7 -->\n<g id=\"edge7\" class=\"edge\">\n<title>5&#45;&gt;7</title>\n<path fill=\"none\" stroke=\"black\" d=\"M256.84,-71.8C263.06,-63.08 270,-53.34 276.22,-44.63\"/>\n<polygon fill=\"black\" stroke=\"black\" points=\"279.18,-46.5 282.14,-36.33 273.48,-42.44 279.18,-46.5\"/>\n</g>\n<!-- 9 -->\n<g id=\"node10\" class=\"node\">\n<title>9</title>\n<polygon fill=\"#48a4e7\" stroke=\"black\" points=\"465.5,-125 333.5,-125 333.5,-72 465.5,-72 465.5,-125\"/>\n<text text-anchor=\"middle\" x=\"399.5\" y=\"-109.8\" font-family=\"Helvetica,sans-Serif\" font-size=\"14.00\">Salary &lt;= 22500.0</text>\n<text text-anchor=\"middle\" x=\"399.5\" y=\"-94.8\" font-family=\"Helvetica,sans-Serif\" font-size=\"14.00\">samples = 13.5%</text>\n<text text-anchor=\"middle\" x=\"399.5\" y=\"-79.8\" font-family=\"Helvetica,sans-Serif\" font-size=\"14.00\">value = [0.07, 0.93]</text>\n</g>\n<!-- 8&#45;&gt;9 -->\n<g id=\"edge9\" class=\"edge\">\n<title>8&#45;&gt;9</title>\n<path fill=\"none\" stroke=\"black\" d=\"M400.91,-160.87C400.73,-152.89 400.52,-143.93 400.32,-135.38\"/>\n<polygon fill=\"black\" stroke=\"black\" points=\"403.82,-135.17 400.09,-125.25 396.82,-135.33 403.82,-135.17\"/>\n</g>\n<!-- 12 -->\n<g id=\"node13\" class=\"node\">\n<title>12</title>\n<polygon fill=\"#77bced\" stroke=\"black\" points=\"631,-125 484,-125 484,-72 631,-72 631,-125\"/>\n<text text-anchor=\"middle\" x=\"557.5\" y=\"-109.8\" font-family=\"Helvetica,sans-Serif\" font-size=\"14.00\">Salary &lt;= 40000.0</text>\n<text text-anchor=\"middle\" x=\"557.5\" y=\"-94.8\" font-family=\"Helvetica,sans-Serif\" font-size=\"14.00\">samples = 15.1%</text>\n<text text-anchor=\"middle\" x=\"557.5\" y=\"-79.8\" font-family=\"Helvetica,sans-Serif\" font-size=\"14.00\">value = [0.238, 0.762]</text>\n</g>\n<!-- 8&#45;&gt;12 -->\n<g id=\"edge12\" class=\"edge\">\n<title>8&#45;&gt;12</title>\n<path fill=\"none\" stroke=\"black\" d=\"M447.46,-160.87C464.68,-151.26 484.42,-140.25 502.39,-130.24\"/>\n<polygon fill=\"black\" stroke=\"black\" points=\"504.57,-133.03 511.6,-125.1 501.16,-126.91 504.57,-133.03\"/>\n</g>\n<!-- 10 -->\n<g id=\"node11\" class=\"node\">\n<title>10</title>\n<polygon fill=\"#c0c0c0\" stroke=\"black\" points=\"408.5,-36 354.5,-36 354.5,0 408.5,0 408.5,-36\"/>\n<text text-anchor=\"middle\" x=\"381.5\" y=\"-14.3\" font-family=\"Helvetica,sans-Serif\" font-size=\"14.00\">(...)</text>\n</g>\n<!-- 9&#45;&gt;10 -->\n<g id=\"edge10\" class=\"edge\">\n<title>9&#45;&gt;10</title>\n<path fill=\"none\" stroke=\"black\" d=\"M393.61,-71.8C391.73,-63.62 389.65,-54.55 387.75,-46.27\"/>\n<polygon fill=\"black\" stroke=\"black\" points=\"391.12,-45.3 385.47,-36.33 384.3,-46.86 391.12,-45.3\"/>\n</g>\n<!-- 11 -->\n<g id=\"node12\" class=\"node\">\n<title>11</title>\n<polygon fill=\"#c0c0c0\" stroke=\"black\" points=\"480.5,-36 426.5,-36 426.5,0 480.5,0 480.5,-36\"/>\n<text text-anchor=\"middle\" x=\"453.5\" y=\"-14.3\" font-family=\"Helvetica,sans-Serif\" font-size=\"14.00\">(...)</text>\n</g>\n<!-- 9&#45;&gt;11 -->\n<g id=\"edge11\" class=\"edge\">\n<title>9&#45;&gt;11</title>\n<path fill=\"none\" stroke=\"black\" d=\"M417.18,-71.8C423.18,-63.08 429.88,-53.34 435.87,-44.63\"/>\n<polygon fill=\"black\" stroke=\"black\" points=\"438.79,-46.55 441.58,-36.33 433.03,-42.59 438.79,-46.55\"/>\n</g>\n<!-- 13 -->\n<g id=\"node14\" class=\"node\">\n<title>13</title>\n<polygon fill=\"#c0c0c0\" stroke=\"black\" points=\"566.5,-36 512.5,-36 512.5,0 566.5,0 566.5,-36\"/>\n<text text-anchor=\"middle\" x=\"539.5\" y=\"-14.3\" font-family=\"Helvetica,sans-Serif\" font-size=\"14.00\">(...)</text>\n</g>\n<!-- 12&#45;&gt;13 -->\n<g id=\"edge13\" class=\"edge\">\n<title>12&#45;&gt;13</title>\n<path fill=\"none\" stroke=\"black\" d=\"M551.61,-71.8C549.73,-63.62 547.65,-54.55 545.75,-46.27\"/>\n<polygon fill=\"black\" stroke=\"black\" points=\"549.12,-45.3 543.47,-36.33 542.3,-46.86 549.12,-45.3\"/>\n</g>\n<!-- 14 -->\n<g id=\"node15\" class=\"node\">\n<title>14</title>\n<polygon fill=\"#c0c0c0\" stroke=\"black\" points=\"638.5,-36 584.5,-36 584.5,0 638.5,0 638.5,-36\"/>\n<text text-anchor=\"middle\" x=\"611.5\" y=\"-14.3\" font-family=\"Helvetica,sans-Serif\" font-size=\"14.00\">(...)</text>\n</g>\n<!-- 12&#45;&gt;14 -->\n<g id=\"edge14\" class=\"edge\">\n<title>12&#45;&gt;14</title>\n<path fill=\"none\" stroke=\"black\" d=\"M575.18,-71.8C581.18,-63.08 587.88,-53.34 593.87,-44.63\"/>\n<polygon fill=\"black\" stroke=\"black\" points=\"596.79,-46.55 599.58,-36.33 591.03,-42.59 596.79,-46.55\"/>\n</g>\n</g>\n</svg>\n"
          },
          "metadata": {}
        }
      ]
    },
    {
      "cell_type": "code",
      "source": [
        "conf_matrix = confusion_matrix(y_test, y_pred)\n",
        "\n",
        "ConfusionMatrixDisplay(confusion_matrix=conf_matrix).plot();"
      ],
      "metadata": {
        "colab": {
          "base_uri": "https://localhost:8080/",
          "height": 300
        },
        "id": "u2P3RjkzIwe4",
        "outputId": "dfbd9f9b-442f-4466-eacc-d2bc6cf56144"
      },
      "execution_count": 44,
      "outputs": [
        {
          "output_type": "display_data",
          "data": {
            "text/plain": [
              "<Figure size 432x288 with 2 Axes>"
            ],
            "image/png": "[encoded data removed]"
          },
          "metadata": {
            "needs_background": "light"
          }
        }
      ]
    },
    {
      "cell_type": "code",
      "source": [
        "def user_input():\n",
        "  while True:\n",
        "    try:\n",
        "      age = input(\"Provide the customer's  age (numeric value): \")\n",
        "      salary = input(\"Provide the customer's salary(numeric value): \")\n",
        "      age = int(age)\n",
        "      salary = int(salary)\n",
        "      return age, salary\n",
        "    except ValueError:\n",
        "      print(\"One or more values given are nor numerical. Please, provide the numerical value as mentioned.\")"
      ],
      "metadata": {
        "id": "2xUbNquAcPLj"
      },
      "execution_count": 45,
      "outputs": []
    },
    {
      "cell_type": "code",
      "source": [
        "def predict__customer_decision(model):\n",
        "  age, salary = user_input()\n",
        "  ds = pd.DataFrame({'Age' : [age], 'Salary' : [salary]})\n",
        "  if model.predict(ds)[0] == 'yes':\n",
        "    return \"The customer of the given age and salary will buy the watch.\"\n",
        "  else:\n",
        "    return \"The customer of the given age and salary will not buy the watch.\"\n"
      ],
      "metadata": {
        "id": "rjygfBrPhTaR"
      },
      "execution_count": 46,
      "outputs": []
    },
    {
      "cell_type": "code",
      "source": [
        "predict__customer_decision(best_rf)"
      ],
      "metadata": {
        "colab": {
          "base_uri": "https://localhost:8080/",
          "height": 91
        },
        "id": "M9BzD6eSi85T",
        "outputId": "729dc3ad-0a22-4bba-b4a1-b3e6d5673b0a"
      },
      "execution_count": 50,
      "outputs": [
        {
          "name": "stdout",
          "output_type": "stream",
          "text": [
            "Provide the customer's  age (numeric value): 18\n",
            "Provide the customer's salary(numeric value): 15000\n"
          ]
        },
        {
          "output_type": "execute_result",
          "data": {
            "text/plain": [
              "'The customer of the given age and salary will not buy the watch.'"
            ],
            "application/vnd.google.colaboratory.intrinsic+json": {
              "type": "string"
            }
          },
          "metadata": {},
          "execution_count": 50
        }
      ]
    },
    {
      "cell_type": "code",
      "source": [],
      "metadata": {
        "id": "zQEvFVrnkH7X"
      },
      "execution_count": null,
      "outputs": []
    },
    {
      "cell_type": "code",
      "source": [
        "df[\"Salary\"].min()"
      ],
      "metadata": {
        "colab": {
          "base_uri": "https://localhost:8080/"
        },
        "id": "qZYBMwZcjLYT",
        "outputId": "851ab783-156d-41ce-8ff7-d86ecf985035"
      },
      "execution_count": 48,
      "outputs": [
        {
          "output_type": "execute_result",
          "data": {
            "text/plain": [
              "15000"
            ]
          },
          "metadata": {},
          "execution_count": 48
        }
      ]
    },
    {
      "cell_type": "code",
      "source": [
        "df[\"Age\"].min()"
      ],
      "metadata": {
        "colab": {
          "base_uri": "https://localhost:8080/"
        },
        "id": "r5zSeEvukAM4",
        "outputId": "9d3067fb-5e66-4138-f7b2-c3ded80a62a6"
      },
      "execution_count": 49,
      "outputs": [
        {
          "output_type": "execute_result",
          "data": {
            "text/plain": [
              "18"
            ]
          },
          "metadata": {},
          "execution_count": 49
        }
      ]
    }
  ]
}